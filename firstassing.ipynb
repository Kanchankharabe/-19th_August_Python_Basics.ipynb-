{
 "cells": [
  {
   "cell_type": "markdown",
   "id": "378fe9fc-962c-46c3-8e9b-8ca577ee5095",
   "metadata": {},
   "source": [
    "1. Declare two variables, x and y, and assign them integer values. Swap the values of these variables without using any temporary variable.¶"
   ]
  },
  {
   "cell_type": "code",
   "execution_count": 1,
   "id": "7ee98698-02d0-4018-8582-df55c33d7a59",
   "metadata": {},
   "outputs": [
    {
     "name": "stdout",
     "output_type": "stream",
     "text": [
      "Before swap x: 5 and y: 10\n",
      "After swap x: 10 and y: 5\n"
     ]
    }
   ],
   "source": [
    "# Step 1: Declare and initialize variables\n",
    "x = 5\n",
    "y = 10\n",
    "\n",
    "# Step 2: Creating function to swap the variables\n",
    "def swap_variables(x,y):\n",
    "  print(f\"Before swap x: {x} and y: {y}\")\n",
    "  x,y = y, x\n",
    "  print(f\"After swap x: {x} and y: {y}\")\n",
    "\n",
    "swap_variables(x,y)"
   ]
  },
  {
   "cell_type": "markdown",
   "id": "4bd1b5f9-c212-44ad-856b-59b198bd0c70",
   "metadata": {},
   "source": [
    "2. Create a program that calculates the area of a rectangle. Take the length and width as inputs from the user and store them in variables. Calculate and display the area."
   ]
  },
  {
   "cell_type": "code",
   "execution_count": 2,
   "id": "49e07b50-3dcf-4dcf-b921-8476d9f9ed65",
   "metadata": {},
   "outputs": [
    {
     "name": "stdin",
     "output_type": "stream",
     "text": [
      "Enter the length of the rectangle:  15\n",
      "Enter the width of the rectangle:  12\n"
     ]
    },
    {
     "name": "stdout",
     "output_type": "stream",
     "text": [
      "The area of the rectangle is: 180.0\n"
     ]
    }
   ],
   "source": [
    "# Step 1: Get input from the user for length and width\n",
    "length = float(input(\"Enter the length of the rectangle: \")) # Taking user input for length and converting it to a floating-point number\n",
    "width = float(input(\"Enter the width of the rectangle: \"))   # Taking user input for width and converting it to a floating-point number\n",
    "\n",
    "# Step 2: Calculate the area of the rectangle using the formula: area = length * width\n",
    "area = length * width # Calculating the area by multiplying length and width\n",
    "\n",
    "# Step 3: Display the calculated area to the user\n",
    "print(\"The area of the rectangle is:\", area) # Printing the calculated area"
   ]
  },
  {
   "cell_type": "markdown",
   "id": "3138f98b-02cb-4362-a47e-bfc8851585bd",
   "metadata": {},
   "source": [
    "3. Write a Python program that converts temperatures from Celsius to Fahrenheit. Take the temperature in Celsius as input, store it in a variable, convert it to Fahrenheit, and display the result.¶"
   ]
  },
  {
   "cell_type": "code",
   "execution_count": 4,
   "id": "3d899829-f891-4197-99ea-905cc71b4820",
   "metadata": {},
   "outputs": [
    {
     "name": "stdin",
     "output_type": "stream",
     "text": [
      "Enter temperature in Celsius:  30\n"
     ]
    },
    {
     "name": "stdout",
     "output_type": "stream",
     "text": [
      "30.0 Celsius is equal to 86.00 Fahrenheit\n"
     ]
    }
   ],
   "source": [
    "# Step 1: Get the temperature in Celsius from the user\n",
    "celsius_temperature = float(input(\"Enter temperature in Celsius: \"))\n",
    "\n",
    "# Step 2: Convert Celsius to Fahrenheit using the formula: (C * 9/5) + 32\n",
    "fahrenheit_temperature = (celsius_temperature * 9/5) + 32\n",
    "\n",
    "# Step 3: Display the converted temperature in Fahrenheit\n",
    "print(f\"{celsius_temperature} Celsius is equal to {fahrenheit_temperature:.2f} Fahrenheit\")"
   ]
  },
  {
   "cell_type": "markdown",
   "id": "ccd7aec1-0728-4d06-af37-2d3964ed55e7",
   "metadata": {},
   "source": [
    "String based questions¶"
   ]
  },
  {
   "cell_type": "markdown",
   "id": "494d68e5-4aa7-4c3c-b1e3-383243a7b7bc",
   "metadata": {},
   "source": [
    "1. Write a Python program that takes a string as input and prints the length of the string\n"
   ]
  },
  {
   "cell_type": "code",
   "execution_count": 5,
   "id": "cd132275-71a4-46a9-9384-022526a0303a",
   "metadata": {},
   "outputs": [
    {
     "name": "stdin",
     "output_type": "stream",
     "text": [
      "Enter a string:  mohini\n"
     ]
    },
    {
     "name": "stdout",
     "output_type": "stream",
     "text": [
      "The length of the input string is: 6\n"
     ]
    }
   ],
   "source": [
    "# Step 1: Get input from the user\n",
    "input_string = input(\"Enter a string: \")\n",
    "\n",
    "# Step 2: Calculate the length of the input string using the built-in len() function\n",
    "string_length = len(input_string)\n",
    "\n",
    "# Step 3: Print the length of the string\n",
    "print(\"The length of the input string is:\", string_length)"
   ]
  },
  {
   "cell_type": "markdown",
   "id": "d4125bdb-08f5-43be-9480-5b755df49d50",
   "metadata": {},
   "source": [
    "2. Create a program that takes a sentence from the user and counts the number of vowels (a, e, i, o, u) in the string.¶"
   ]
  },
  {
   "cell_type": "code",
   "execution_count": 6,
   "id": "2049c752-d170-493e-98a9-15cd377f0600",
   "metadata": {},
   "outputs": [
    {
     "name": "stdin",
     "output_type": "stream",
     "text": [
      "Enter a sentence:  good morning komal\n"
     ]
    },
    {
     "name": "stdout",
     "output_type": "stream",
     "text": [
      "Number of vowels: 6\n"
     ]
    }
   ],
   "source": [
    "# Step 1: Get input from the user\n",
    "sentence = input(\"Enter a sentence: \")\n",
    "\n",
    "# Step 2: Initialize a variable to count the vowels\n",
    "vowel_count = 0\n",
    "\n",
    "# Step 3: Iterate through each character in the sentence\n",
    "for char in sentence:\n",
    "    # Step 4: Convert the character to lowercase to handle both uppercase and lowercase vowels\n",
    "    char_lower = char.lower()\n",
    "\n",
    "    # Step 5: Check if the character is a vowel (a, e, i, o, u)\n",
    "    if char_lower in \"aeiou\":\n",
    "        # Step 6: If the character is a vowel, increment the vowel_count variable\n",
    "        vowel_count += 1\n",
    "\n",
    "# Step 7: Display the result\n",
    "print(\"Number of vowels:\", vowel_count)"
   ]
  },
  {
   "cell_type": "markdown",
   "id": "a1bbfa8b-8e13-4b54-9da4-131caa4a8786",
   "metadata": {},
   "source": [
    "3. Given a string, reverse the order of characters using string slicing and print the reversed string."
   ]
  },
  {
   "cell_type": "code",
   "execution_count": 7,
   "id": "840d07f6-069e-4d11-b848-98065a6859ca",
   "metadata": {},
   "outputs": [
    {
     "name": "stdin",
     "output_type": "stream",
     "text": [
      "Enter a string:  kanchan\n"
     ]
    },
    {
     "name": "stdout",
     "output_type": "stream",
     "text": [
      "Reversed string: nahcnak\n"
     ]
    }
   ],
   "source": [
    "# Step 1: Get the input string from the user\n",
    "input_string = input(\"Enter a string: \")\n",
    "\n",
    "# Step 2: Use string slicing to reverse the string\n",
    "# Syntax: [start:end:step]\n",
    "# Here, we start from the end of the string, move backward with step -1, and stop at the beginning.\n",
    "reversed_string = input_string[::-1]\n",
    "\n",
    "# Step 3: Print the reversed string\n",
    "print(\"Reversed string:\", reversed_string)"
   ]
  },
  {
   "cell_type": "markdown",
   "id": "8ce19f6f-5c62-4a32-83c8-ac36b269d3cf",
   "metadata": {},
   "source": [
    "4. Write a program that takes a string as input and checks if it is a palindrome (reads the same forwards and backwards)."
   ]
  },
  {
   "cell_type": "code",
   "execution_count": 8,
   "id": "35a27db3-b3ab-4fb0-b362-86e9a5cd7934",
   "metadata": {},
   "outputs": [
    {
     "name": "stdin",
     "output_type": "stream",
     "text": [
      "Enter a string:  malayalam\n"
     ]
    },
    {
     "name": "stdout",
     "output_type": "stream",
     "text": [
      "The input string is a palindrome.\n"
     ]
    }
   ],
   "source": [
    "# Step 1: Get input from the user\n",
    "input_string = input(\"Enter a string: \")\n",
    "\n",
    "# Step 2: Remove spaces and convert the input string to lowercase\n",
    "cleaned_string = input_string.replace(\" \", \"\").lower()\n",
    "\n",
    "# Step 3: Reverse the cleaned string using slicing\n",
    "reversed_string = cleaned_string[::-1]\n",
    "\n",
    "# Step 4: Compare the cleaned string with its reverse to check for palindrome\n",
    "if cleaned_string == reversed_string:\n",
    "    print(\"The input string is a palindrome.\")\n",
    "else:\n",
    "    print(\"The input string is not a palindrome.\")"
   ]
  },
  {
   "cell_type": "markdown",
   "id": "7ab33c9b-7f45-43c2-890c-60297d43e1d4",
   "metadata": {},
   "source": [
    "5. Create a program that takes a string as input and removes all the spaces from it. Print the modified string without spaces."
   ]
  },
  {
   "cell_type": "code",
   "execution_count": 9,
   "id": "8f81d429-5a40-4735-ae3d-ef849ff8b903",
   "metadata": {},
   "outputs": [
    {
     "name": "stdin",
     "output_type": "stream",
     "text": [
      "Enter a string:  manav\n"
     ]
    },
    {
     "name": "stdout",
     "output_type": "stream",
     "text": [
      "Modified string without spaces: manav\n"
     ]
    }
   ],
   "source": [
    "# Step 1: Take input from the user\n",
    "input_string = input(\"Enter a string: \")\n",
    "\n",
    "# Step 2: Initialize an empty string to store the modified string without spaces\n",
    "modified_string = \"\"\n",
    "\n",
    "# Step 3: Iterate through each character in the input string\n",
    "for char in input_string:\n",
    "    # Step 4: Check if the character is not a space\n",
    "    if char != \" \":\n",
    "        # Step 5: If not a space, append the character to the modified string\n",
    "        modified_string += char\n",
    "\n",
    "# Step 6: Print the modified string without spaces\n",
    "print(\"Modified string without spaces:\", modified_string)"
   ]
  }
 ],
 "metadata": {
  "kernelspec": {
   "display_name": "Python 3 (ipykernel)",
   "language": "python",
   "name": "python3"
  },
  "language_info": {
   "codemirror_mode": {
    "name": "ipython",
    "version": 3
   },
   "file_extension": ".py",
   "mimetype": "text/x-python",
   "name": "python",
   "nbconvert_exporter": "python",
   "pygments_lexer": "ipython3",
   "version": "3.10.8"
  }
 },
 "nbformat": 4,
 "nbformat_minor": 5
}
